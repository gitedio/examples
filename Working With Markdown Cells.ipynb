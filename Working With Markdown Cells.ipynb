{
  "nbformat": 4,
  "nbformat_minor": 0,
  "metadata": {
    "colab": {
      "name": "Working With Markdown Cells.ipynb",
      "version": "0.3.2",
      "provenance": []
    },
    "kernelspec": {
      "display_name": "Python 3",
      "language": "python",
      "name": "python3"
    }
  },
  "cells": [
    {
      "metadata": {
        "id": "Ov5cul5wUm9o",
        "colab_type": "text"
      },
      "cell_type": "markdown",
      "source": [
        "# Markdown Cells\n",
        "\n",
        "Text can be added to IPython Notebooks using Markdown cells.  Markdown is a popular markup language that is a superset of HTML. Its specification can be found here:\n",
        "\n",
        "<http://daringfireball.net/projects/markdown/>\n",
        "\n",
        "You can view the source of a cell by double clicking on it, or while the cell is selected in command mode, press `Enter` to edit it. One A cell has been editted, use `Shift-Enter` to re-render it. "
      ]
    },
    {
      "metadata": {
        "id": "P-gtuFknUm9q",
        "colab_type": "text"
      },
      "cell_type": "markdown",
      "source": [
        "## 1. Markdown basics\n",
        "\n",
        "You can make text *italic* or **bold**."
      ]
    },
    {
      "metadata": {
        "id": "MTR2vGOdUm9s",
        "colab_type": "text"
      },
      "cell_type": "markdown",
      "source": [
        "You can build nested itemized or enumerated lists:\n",
        "\n",
        "* One\n",
        "    - Sublist\n",
        "        - This\n",
        "  - Sublist\n",
        "        - That\n",
        "        - The other thing\n",
        "* Two\n",
        "  - Sublist\n",
        "* Three\n",
        "  - Sublist\n",
        "\n",
        "Now another list:\n",
        "\n",
        "1. Here we go\n",
        "    1. Sublist\n",
        "    2. Sublist\n",
        "2. There we go\n",
        "3. Now this"
      ]
    },
    {
      "metadata": {
        "id": "_o50IkIVUm9t",
        "colab_type": "text"
      },
      "cell_type": "markdown",
      "source": [
        "You can add horizontal rules:\n",
        "\n",
        "---"
      ]
    },
    {
      "metadata": {
        "id": "BMwHlyDAUm9v",
        "colab_type": "text"
      },
      "cell_type": "markdown",
      "source": [
        "Here is a blockquote:\n",
        "\n",
        "> Beautiful is better than ugly.\n",
        "> Explicit is better than implicit.\n",
        "> Simple is better than complex.\n",
        "> Complex is better than complicated.\n",
        "> Flat is better than nested.\n",
        "> Sparse is better than dense.\n",
        "> Readability counts.\n",
        "> Special cases aren't special enough to break the rules.\n",
        "> Although practicality beats purity.\n",
        "> Errors should never pass silently.\n",
        "> Unless explicitly silenced.\n",
        "> In the face of ambiguity, refuse the temptation to guess.\n",
        "> There should be one-- and preferably only one --obvious way to do it.\n",
        "> Although that way may not be obvious at first unless you're Dutch.\n",
        "> Now is better than never.\n",
        "> Although never is often better than *right* now.\n",
        "> If the implementation is hard to explain, it's a bad idea.\n",
        "> If the implementation is easy to explain, it may be a good idea.\n",
        "> Namespaces are one honking great idea -- let's do more of those!"
      ]
    },
    {
      "metadata": {
        "id": "Kvaayk7RUm9w",
        "colab_type": "text"
      },
      "cell_type": "markdown",
      "source": [
        "And shorthand for links:\n",
        "\n",
        "[IPython's website](http://ipython.org)"
      ]
    },
    {
      "metadata": {
        "id": "5Wg4y4KIUm9x",
        "colab_type": "text"
      },
      "cell_type": "markdown",
      "source": [
        "You can add headings using Markdown's syntax:\n",
        "\n",
        "# Heading 1\n",
        "\n",
        "# Heading 2\n",
        "\n",
        "## Heading 2.1\n",
        "\n",
        "## Heading 2.2"
      ]
    },
    {
      "metadata": {
        "id": "VhzJsTDKUm9y",
        "colab_type": "text"
      },
      "cell_type": "markdown",
      "source": [
        "## Embedded code\n",
        "\n",
        "You can embed code meant for illustration instead of execution in Python:\n",
        "\n",
        "    def f(x):\n",
        "        \"\"\"a docstring\"\"\"\n",
        "        return x**2\n",
        "\n",
        "or other languages:\n",
        "\n",
        "    if (i=0; i<n; i++) {\n",
        "      printf(\"hello %d\\n\", i);\n",
        "      x += 4;\n",
        "    }"
      ]
    },
    {
      "metadata": {
        "id": "DSwD7d12Um9z",
        "colab_type": "text"
      },
      "cell_type": "markdown",
      "source": [
        "## 2. LaTeX equations\n",
        "\n",
        "Courtesy of MathJax, you can include mathematical expressions both inline: \n",
        "$e^{i\\pi} + 1 = 0$  and displayed:\n",
        "\n",
        "$$e^x=\\sum_{i=0}^\\infty \\frac{1}{i!}x^i$$\n",
        "\n",
        "Use single dolars delimiter for inline math, so `$thisisinline\\int math$`  will give $this is inline\\int math$, for exampple to refer to variable within text. \n",
        "\n",
        "Double dollars `$$ \\int_0^\\infty f(\\phi) \\partial \\phi$$` is used for standalone formulas:\n",
        "\n",
        "$$\\int_0^{2\\pi} f(r, \\phi) \\partial \\phi $$\n"
      ]
    },
    {
      "metadata": {
        "id": "-nR38msDUm90",
        "colab_type": "text"
      },
      "cell_type": "markdown",
      "source": [
        "## 3. Github flavored markdown (GFM)\n",
        "\n",
        "The Notebook webapp support Github flavored markdown meaning that you can use triple backticks for code blocks \n",
        "<pre>\n",
        "```python\n",
        "print \"Hello World\"\n",
        "```\n",
        "\n",
        "```javascript\n",
        "console.log(\"Hello World\")\n",
        "```\n",
        "</pre>\n",
        "\n",
        "Gives \n",
        "```python\n",
        "print \"Hello World\"\n",
        "```\n",
        "\n",
        "```javascript\n",
        "console.log(\"Hello World\")\n",
        "```\n",
        "\n",
        "And a table like this : \n",
        "\n",
        "<pre>\n",
        "| This | is   |\n",
        "|------|------|\n",
        "|   a  | table| \n",
        "</pre>\n",
        "\n",
        "A nice HTML Table\n",
        "\n",
        "| This | is   |\n",
        "|------|------|\n",
        "|   a  | table| "
      ]
    },
    {
      "metadata": {
        "id": "rJanFkmZUm91",
        "colab_type": "text"
      },
      "cell_type": "markdown",
      "source": [
        "## General HTML\n",
        "\n",
        "Because Markdown is a superset of HTML you can even add things like HTML tables:\n",
        "\n",
        "<table>\n",
        "<tr>\n",
        "<th>Header 1</th>\n",
        "<th>Header 2</th>\n",
        "</tr>\n",
        "<tr>\n",
        "<td>row 1, cell 1</td>\n",
        "<td>row 1, cell 2</td>\n",
        "</tr>\n",
        "<tr>\n",
        "<td>row 2, cell 1</td>\n",
        "<td>row 2, cell 2</td>\n",
        "</tr>\n",
        "</table>"
      ]
    },
    {
      "metadata": {
        "id": "Fzc2AQz1Um92",
        "colab_type": "text"
      },
      "cell_type": "markdown",
      "source": [
        "## 4. Local files\n",
        "\n",
        "If you have local files in your Notebook directory, you can refer to these files in Markdown cells directly:\n",
        "\n",
        "    [subdirectory/]<filename>\n",
        "\n",
        "For example, in the images folder, we have the Python logo:\n",
        "\n",
        "    <img src=\"https://github.com/gitedio/examples/blob/master/images/python-logo.svg?raw=1\" />\n",
        "\n",
        "<img src=\"images/python-logo.svg\" />\n",
        "\n",
        "and a video with the HTML5 video tag:\n",
        "\n",
        "    <video controls src=\"images/animation.m4v\" />\n",
        "\n",
        "<video controls src=\"images/animation.m4v\" />\n",
        "\n",
        "These do not embed the data into the notebook file, and require that the files exist when you are viewing the notebook."
      ]
    },
    {
      "metadata": {
        "id": "ClZz13nqUm93",
        "colab_type": "text"
      },
      "cell_type": "markdown",
      "source": [
        "### a. Security of local files\n",
        "\n",
        "Note that this means that the IPython notebook server also acts as a generic file server\n",
        "for files inside the same tree as your notebooks.  Access is not granted outside the\n",
        "notebook folder so you have strict control over what files are visible, but for this\n",
        "reason it is highly recommended that you do not run the notebook server with a notebook\n",
        "directory at a high level in your filesystem (e.g. your home directory).\n",
        "\n",
        "When you run the notebook in a password-protected manner, local file access is restricted\n",
        "to authenticated users unless read-only views are active."
      ]
    },
    {
      "metadata": {
        "id": "NuYfp2N7Um94",
        "colab_type": "text"
      },
      "cell_type": "markdown",
      "source": [
        "### b. Markdown attachments\n",
        "\n",
        "Since Jupyter notebook version 5.0, in addition to referencing external file you can attach a file to a markdown cell. \n",
        "To do so drag the file from in a markdown cell while editing it:\n",
        "\n",
        "![pycon-logo.jpg](attachment:pycon-logo.jpg)\n",
        "\n",
        "Files are stored in cell metadata and will be automatically scrubbed at save-time if not referenced. You can recognized attached images from other files by their url that starts with `attachment:`. For the image above:\n",
        "\n",
        "    ![pycon-logo.jpg](attachment:pycon-logo.jpg)\n",
        "    \n",
        "Keep in mind that attached files will increase the size of your notebook. \n",
        "\n",
        "You can manually edit the attachement by using the `View > Cell Toolbar > Attachment` menu, but you should not need to. "
      ]
    }
  ]
}